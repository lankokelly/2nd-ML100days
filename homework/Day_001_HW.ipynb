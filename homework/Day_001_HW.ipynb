{
 "cells": [
  {
   "cell_type": "markdown",
   "metadata": {},
   "source": [
    "### Day_001_HW\n",
    "\n",
    "#### HW1：\n",
    "請上 Kaggle, 在 Competitions 或 Dataset 中找一組競賽或資料並寫下：\n",
    "1. 你選的這組資料為何重要\n",
    "    - 此資料適合初學者練習且為熱門資料，並且為二元問題，可為往後之二元分類問題提供分析基礎。\n",
    "\n",
    "\n",
    "2. 資料從何而來 (tips: 譬如提供者是誰、以什麼方式蒐集)\n",
    "    - [Titanic: Machine Learning from Disaster](https://www.kaggle.com/c/titanic)\n",
    "\n",
    "\n",
    "3. 蒐集而來的資料型態為何\n",
    "    - test跟train皆為csv。資料集共有9個attribute，class為survival(值為0或1)\n",
    "\n",
    "|Variable|Data Type|\n",
    "|---|---|\n",
    "|survival|結構化(整數)|\n",
    "|pclass|結構化(整數)|\n",
    "|sex|飛結構化(字串)|\n",
    "|Age|結構化(浮點數)|\n",
    "|sibsp|結構化(整數)|\n",
    "|parch|結構化(整數)|\n",
    "|ticket|結構化(整數)|\n",
    "|fare|結構化(浮點數)|\n",
    "|cabin|非結構化(字串)|\n",
    "|embarked|非結構化(字串)|\n",
    "       \n",
    "4. 這組資料想解決的問題如何評估\n",
    "    - 根據船上部分乘客的訊息(艙等、性別、年齡、船票費用)來預測另一部分乘客是否獲救，藉此也可分析觀察性別跟生存率之間的關係等等\n",
    "    - 分類問題(可用正確率衡量)\n",
    "\n",
    "\n",
    "#### HW2：\n",
    "想像你經營一個自由載客車隊，你希望能透過數據分析以提升業績，請你思考並描述你如何規劃整體的分析/解決方案：\n",
    "1. 核心問題為何 (tips：如何定義 「提升業績 & 你的假設」)\n",
    "    - 在司機的合理工作時間範圍內，最小化等候時間，不僅可讓司機不閒置，也能增加收益機會\n",
    "    - 分析哪些路段較為熱門，增派司機(反之亦然)\n",
    "    - 預測哪些時段+路段較多人叫車，事先派車等候，並根據實際載客情況做及時修正\n",
    "    \n",
    "    \n",
    "2. 資料從何而來 (tips：哪些資料可能會對你想問的問題產生影響 & 資料如何蒐集)\n",
    "    - 客戶回饋(APP或紙本等)\n",
    "    - 同業資料收集\n",
    "    - 每日載客紀錄\n",
    "    \n",
    "    \n",
    "3. 蒐集而來的資料型態為何\n",
    "    - 時間(數值)\n",
    "    - 回饋內容(文字)\n",
    "    - 乘客數量(數值)\n",
    "    - 乘客國籍(數值)\n",
    "    - 乘客性別(文字)\n",
    "    - 起始地(文字)\n",
    "    - 目的地(文字)\n",
    "    \n",
    "4. 你要回答的問題，其如何評估 (tips：你的假設如何驗證)\n",
    "    - 使用迴歸方法，將預測業績與實際業績進行比較\n",
    "\n",
    "\n",
    "#### HW3："
   ]
  },
  {
   "cell_type": "markdown",
   "metadata": {},
   "source": [
    "## 練習時間\n",
    "#### 請寫一個函式用來計算 Mean Square Error\n",
    "$ MSE = \\frac{1}{n}\\sum_{i=1}^{n}{(Y_i - \\hat{Y}_i)^2} $\n",
    "\n",
    "### Hint: [如何取平方](https://googoodesign.gitbooks.io/-ezpython/unit-1.html)"
   ]
  },
  {
   "cell_type": "code",
   "execution_count": 1,
   "metadata": {},
   "outputs": [],
   "source": [
    "import numpy as np\n",
    "import matplotlib.pyplot as plt"
   ]
  },
  {
   "cell_type": "code",
   "execution_count": 14,
   "metadata": {},
   "outputs": [],
   "source": [
    "def mean_squared_error( y, yp ):\n",
    "    mse = sum((y - yp)**2) / len(y)   \n",
    "    return mse"
   ]
  },
  {
   "cell_type": "code",
   "execution_count": 15,
   "metadata": {},
   "outputs": [],
   "source": [
    "def mean_absolute_error(y, yp):\n",
    "    \"\"\"\n",
    "    計算 MAE\n",
    "    Args:\n",
    "        - y: 實際值\n",
    "        - yp: 預測值\n",
    "    \"\"\"\n",
    "    mae = sum(abs(y - yp)) / len(y)\n",
    "    return mae"
   ]
  },
  {
   "cell_type": "code",
   "execution_count": 16,
   "metadata": {},
   "outputs": [
    {
     "data": {
      "image/png": "[encoded data removed]",
      "text/plain": [
       "<Figure size 432x288 with 1 Axes>"
      ]
     },
     "metadata": {
      "needs_background": "light"
     },
     "output_type": "display_data"
    }
   ],
   "source": [
    "w = 3\n",
    "b = 0.5\n",
    "\n",
    "x_lin = np.linspace(0, 100, 101)\n",
    "\n",
    "y = (x_lin + np.random.randn(101) * 5) * w + b\n",
    "\n",
    "plt.plot(x_lin, y, 'b.', label = 'data points')\n",
    "plt.title(\"Assume we have data points\")\n",
    "plt.legend(loc = 2)\n",
    "plt.show()"
   ]
  },
  {
   "cell_type": "code",
   "execution_count": 17,
   "metadata": {},
   "outputs": [
    {
     "data": {
      "image/png": "[encoded data removed]",
      "text/plain": [
       "<Figure size 432x288 with 1 Axes>"
      ]
     },
     "metadata": {
      "needs_background": "light"
     },
     "output_type": "display_data"
    }
   ],
   "source": [
    "y_hat = x_lin * w + b\n",
    "plt.plot(x_lin, y, 'b.', label = 'data')\n",
    "plt.plot(x_lin, y_hat, 'r-', label = 'prediction')\n",
    "plt.title(\"Assume we have data points (And the prediction)\")\n",
    "plt.legend(loc = 2)\n",
    "plt.show()"
   ]
  },
  {
   "cell_type": "code",
   "execution_count": 18,
   "metadata": {},
   "outputs": [
    {
     "name": "stdout",
     "output_type": "stream",
     "text": [
      "The Mean squared error is 248.484\n",
      "The Mean absolute error is 12.602\n"
     ]
    }
   ],
   "source": [
    "# 執行 Function, 確認有沒有正常執行\n",
    "MSE = mean_squared_error(y, y_hat)\n",
    "MAE = mean_absolute_error(y, y_hat)\n",
    "print(\"The Mean squared error is %.3f\" % (MSE))\n",
    "print(\"The Mean absolute error is %.3f\" % (MAE))"
   ]
  }
 ],
 "metadata": {
  "anaconda-cloud": {},
  "kernelspec": {
   "display_name": "Python 3",
   "language": "python",
   "name": "python3"
  },
  "language_info": {
   "codemirror_mode": {
    "name": "ipython",
    "version": 3
   },
   "file_extension": ".py",
   "mimetype": "text/x-python",
   "name": "python",
   "nbconvert_exporter": "python",
   "pygments_lexer": "ipython3",
   "version": "3.6.6"
  }
 },
 "nbformat": 4,
 "nbformat_minor": 1
}
